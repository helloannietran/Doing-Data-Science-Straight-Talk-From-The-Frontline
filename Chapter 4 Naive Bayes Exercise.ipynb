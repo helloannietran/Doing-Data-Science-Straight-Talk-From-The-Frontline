{
 "cells": [
  {
   "cell_type": "code",
   "execution_count": 521,
   "metadata": {},
   "outputs": [],
   "source": [
    "import requests\n",
    "import pandas as pd\n",
    "from getpass import getpass\n",
    "import json\n",
    "import time\n",
    "import string\n",
    "import nltk\n",
    "from nltk.corpus import stopwords\n",
    "from textblob import TextBlob\n",
    "from sklearn.feature_extraction.text  import CountVectorizer\n",
    "from collections import Counter, OrderedDict\n",
    "from sklearn.model_selection import train_test_split\n",
    "import numpy as np\n",
    "from sklearn.metrics import confusion_matrix, accuracy_score\n",
    "\n",
    "import matplotlib.pyplot as plt"
   ]
  },
  {
   "cell_type": "markdown",
   "metadata": {},
   "source": [
    "# Pull NYT articles"
   ]
  },
  {
   "cell_type": "code",
   "execution_count": 2,
   "metadata": {},
   "outputs": [],
   "source": [
    "base_url = 'https://api.nytimes.com/svc/search/v2/articlesearch.json?'"
   ]
  },
  {
   "cell_type": "code",
   "execution_count": 3,
   "metadata": {},
   "outputs": [
    {
     "name": "stdout",
     "output_type": "stream",
     "text": [
      "········\n"
     ]
    }
   ],
   "source": [
    "api_key = getpass()"
   ]
  },
  {
   "cell_type": "code",
   "execution_count": 303,
   "metadata": {},
   "outputs": [],
   "source": [
    "sections = ['Arts','Business','Obituaries','Sports','World']\n",
    "# number of articles per section\n",
    "# do 500 so it doesn't take too long\n",
    "n_articles = 500"
   ]
  },
  {
   "cell_type": "code",
   "execution_count": 304,
   "metadata": {},
   "outputs": [
    {
     "name": "stdout",
     "output_type": "stream",
     "text": [
      "Arts\n",
      "1\n",
      "2\n",
      "3\n",
      "4\n",
      "5\n",
      "6\n",
      "7\n",
      "8\n",
      "9\n",
      "10\n",
      "11\n",
      "12\n",
      "13\n",
      "14\n",
      "15\n",
      "16\n",
      "17\n",
      "18\n",
      "19\n",
      "20\n",
      "21\n",
      "22\n",
      "23\n",
      "24\n",
      "25\n",
      "26\n",
      "27\n",
      "28\n",
      "29\n",
      "30\n",
      "31\n",
      "32\n",
      "33\n",
      "34\n",
      "35\n",
      "36\n",
      "37\n",
      "38\n",
      "39\n",
      "40\n",
      "41\n",
      "42\n",
      "43\n",
      "44\n",
      "45\n",
      "46\n",
      "47\n",
      "48\n",
      "49\n",
      "50\n",
      "Business\n",
      "1\n",
      "2\n",
      "3\n",
      "4\n",
      "5\n",
      "6\n",
      "7\n",
      "8\n",
      "9\n",
      "10\n",
      "11\n",
      "12\n",
      "13\n",
      "14\n",
      "15\n",
      "16\n",
      "17\n",
      "18\n",
      "19\n",
      "20\n",
      "21\n",
      "22\n",
      "23\n",
      "24\n",
      "25\n",
      "26\n",
      "27\n",
      "28\n",
      "29\n",
      "30\n",
      "31\n",
      "32\n",
      "33\n",
      "34\n",
      "35\n",
      "36\n",
      "37\n",
      "38\n",
      "39\n",
      "40\n",
      "41\n",
      "42\n",
      "43\n",
      "44\n",
      "45\n",
      "46\n",
      "47\n",
      "48\n",
      "49\n",
      "50\n",
      "Obituaries\n",
      "1\n",
      "2\n",
      "3\n",
      "4\n",
      "5\n",
      "6\n",
      "7\n",
      "8\n",
      "9\n",
      "10\n",
      "11\n",
      "12\n",
      "13\n",
      "14\n",
      "15\n",
      "16\n",
      "17\n",
      "18\n",
      "19\n",
      "20\n",
      "21\n",
      "22\n",
      "23\n",
      "24\n",
      "25\n",
      "26\n",
      "27\n",
      "28\n",
      "29\n",
      "30\n",
      "31\n",
      "32\n",
      "33\n",
      "34\n",
      "35\n",
      "36\n",
      "37\n",
      "38\n",
      "39\n",
      "40\n",
      "41\n",
      "42\n",
      "43\n",
      "44\n",
      "45\n",
      "46\n",
      "47\n",
      "48\n",
      "49\n",
      "50\n",
      "Sports\n",
      "1\n",
      "2\n",
      "3\n",
      "4\n",
      "5\n",
      "6\n",
      "7\n",
      "8\n",
      "9\n",
      "10\n",
      "11\n",
      "12\n",
      "13\n",
      "14\n",
      "15\n",
      "16\n",
      "17\n",
      "18\n",
      "19\n",
      "20\n",
      "21\n",
      "22\n",
      "23\n",
      "24\n",
      "25\n",
      "26\n",
      "27\n",
      "28\n",
      "29\n",
      "30\n",
      "31\n",
      "32\n",
      "33\n",
      "34\n",
      "35\n",
      "36\n",
      "37\n",
      "38\n",
      "39\n",
      "40\n",
      "41\n",
      "42\n",
      "43\n",
      "44\n",
      "45\n",
      "46\n",
      "47\n",
      "48\n",
      "49\n",
      "50\n",
      "World\n",
      "1\n",
      "2\n",
      "3\n",
      "4\n",
      "5\n",
      "6\n",
      "7\n",
      "8\n",
      "9\n",
      "10\n",
      "11\n",
      "12\n",
      "13\n",
      "14\n",
      "15\n",
      "16\n",
      "17\n",
      "18\n",
      "19\n",
      "20\n",
      "21\n",
      "22\n",
      "23\n",
      "24\n",
      "25\n",
      "26\n",
      "27\n",
      "28\n",
      "29\n",
      "30\n",
      "31\n",
      "32\n",
      "33\n",
      "34\n",
      "35\n",
      "36\n",
      "37\n",
      "38\n",
      "39\n",
      "40\n",
      "41\n",
      "42\n",
      "43\n",
      "44\n",
      "45\n",
      "46\n",
      "47\n",
      "48\n",
      "49\n",
      "50\n"
     ]
    }
   ],
   "source": [
    "final_df = pd.DataFrame()\n",
    "for section in sections:\n",
    "    print(section)\n",
    "    for page in range(1, int(n_articles/10)+1):\n",
    "        print(page)\n",
    "        query = f'api-key={api_key}&fq=news_desk:(\"{section}\")&page={page}'\n",
    "        full_url = base_url + query\n",
    "        content = requests.get(full_url).json()\n",
    "\n",
    "        articles_df = pd.DataFrame(content['response']['docs'])\n",
    "        articles_df['headline'] = [d.get('main') for d in articles_df['headline']]\n",
    "        # this version of the api doesn't have the body, so combine abstract and lead paragraph\n",
    "        articles_df['snippet'] = articles_df['abstract'] + ' ' + articles_df['lead_paragraph']\n",
    "        cols = ['web_url','headline','snippet','section_name']\n",
    "        articles_df = articles_df[cols]\n",
    "        final_df = final_df.append(articles_df)\n",
    "    \n",
    "        time.sleep(6)"
   ]
  },
  {
   "cell_type": "code",
   "execution_count": 306,
   "metadata": {},
   "outputs": [
    {
     "data": {
      "text/html": [
       "<div>\n",
       "<style scoped>\n",
       "    .dataframe tbody tr th:only-of-type {\n",
       "        vertical-align: middle;\n",
       "    }\n",
       "\n",
       "    .dataframe tbody tr th {\n",
       "        vertical-align: top;\n",
       "    }\n",
       "\n",
       "    .dataframe thead th {\n",
       "        text-align: right;\n",
       "    }\n",
       "</style>\n",
       "<table border=\"1\" class=\"dataframe\">\n",
       "  <thead>\n",
       "    <tr style=\"text-align: right;\">\n",
       "      <th></th>\n",
       "      <th>web_url</th>\n",
       "      <th>headline</th>\n",
       "      <th>snippet</th>\n",
       "      <th>section_name</th>\n",
       "    </tr>\n",
       "  </thead>\n",
       "  <tbody>\n",
       "    <tr>\n",
       "      <th>0</th>\n",
       "      <td>https://www.nytimes.com/interactive/2020/11/27...</td>\n",
       "      <td>The Best of Late Night This Week</td>\n",
       "      <td>The late-night hosts took the holiday off, and...</td>\n",
       "      <td>Arts</td>\n",
       "    </tr>\n",
       "    <tr>\n",
       "      <th>1</th>\n",
       "      <td>https://www.nytimes.com/interactive/2020/11/25...</td>\n",
       "      <td>The Myth of North America, in One Painting</td>\n",
       "      <td>How Benjamin West remade a bloody battle as a ...</td>\n",
       "      <td>Arts</td>\n",
       "    </tr>\n",
       "    <tr>\n",
       "      <th>2</th>\n",
       "      <td>https://www.nytimes.com/interactive/2020/11/25...</td>\n",
       "      <td>What’s in Our Queue? ‘Down by Law’</td>\n",
       "      <td>I’m the deputy culture editor for news. I’m do...</td>\n",
       "      <td>Arts</td>\n",
       "    </tr>\n",
       "    <tr>\n",
       "      <th>3</th>\n",
       "      <td>https://www.nytimes.com/interactive/2020/11/20...</td>\n",
       "      <td>The Best of Late Night This Week</td>\n",
       "      <td>This week, the late-night hosts crunched the n...</td>\n",
       "      <td>Arts</td>\n",
       "    </tr>\n",
       "    <tr>\n",
       "      <th>4</th>\n",
       "      <td>https://www.nytimes.com/interactive/2020/11/19...</td>\n",
       "      <td>What’s in Our Queue? ‘The Great’</td>\n",
       "      <td>I’m the editor of The Times’s Arts &amp; Leisure s...</td>\n",
       "      <td>Arts</td>\n",
       "    </tr>\n",
       "  </tbody>\n",
       "</table>\n",
       "</div>"
      ],
      "text/plain": [
       "                                             web_url  \\\n",
       "0  https://www.nytimes.com/interactive/2020/11/27...   \n",
       "1  https://www.nytimes.com/interactive/2020/11/25...   \n",
       "2  https://www.nytimes.com/interactive/2020/11/25...   \n",
       "3  https://www.nytimes.com/interactive/2020/11/20...   \n",
       "4  https://www.nytimes.com/interactive/2020/11/19...   \n",
       "\n",
       "                                     headline  \\\n",
       "0            The Best of Late Night This Week   \n",
       "1  The Myth of North America, in One Painting   \n",
       "2          What’s in Our Queue? ‘Down by Law’   \n",
       "3            The Best of Late Night This Week   \n",
       "4            What’s in Our Queue? ‘The Great’   \n",
       "\n",
       "                                             snippet section_name  \n",
       "0  The late-night hosts took the holiday off, and...         Arts  \n",
       "1  How Benjamin West remade a bloody battle as a ...         Arts  \n",
       "2  I’m the deputy culture editor for news. I’m do...         Arts  \n",
       "3  This week, the late-night hosts crunched the n...         Arts  \n",
       "4  I’m the editor of The Times’s Arts & Leisure s...         Arts  "
      ]
     },
     "execution_count": 306,
     "metadata": {},
     "output_type": "execute_result"
    }
   ],
   "source": [
    "final_df.head()"
   ]
  },
  {
   "cell_type": "code",
   "execution_count": 307,
   "metadata": {},
   "outputs": [],
   "source": [
    "final_df.to_csv('raw_articles_output.csv',index=False)"
   ]
  },
  {
   "cell_type": "markdown",
   "metadata": {},
   "source": [
    "# Preprocessing"
   ]
  },
  {
   "cell_type": "code",
   "execution_count": 305,
   "metadata": {},
   "outputs": [
    {
     "data": {
      "text/plain": [
       "World            501\n",
       "Obituaries       500\n",
       "Arts             500\n",
       "Sports           500\n",
       "Business Day     335\n",
       "Technology       146\n",
       "Your Money        14\n",
       "Times Insider      1\n",
       "Reader Center      1\n",
       "Travel             1\n",
       "New York           1\n",
       "Name: section_name, dtype: int64"
      ]
     },
     "execution_count": 305,
     "metadata": {},
     "output_type": "execute_result"
    }
   ],
   "source": [
    "final_df['section_name'].value_counts()"
   ]
  },
  {
   "cell_type": "code",
   "execution_count": 308,
   "metadata": {},
   "outputs": [],
   "source": [
    "# combining to business\n",
    "final_df.loc[~final_df['section_name'].isin(['World','Obituaries','Arts','Sports']),'section_name'] = 'Business'"
   ]
  },
  {
   "cell_type": "code",
   "execution_count": 309,
   "metadata": {},
   "outputs": [
    {
     "data": {
      "text/plain": [
       "World         501\n",
       "Obituaries    500\n",
       "Arts          500\n",
       "Sports        500\n",
       "Business      499\n",
       "Name: section_name, dtype: int64"
      ]
     },
     "execution_count": 309,
     "metadata": {},
     "output_type": "execute_result"
    }
   ],
   "source": [
    "final_df['section_name'].value_counts()"
   ]
  },
  {
   "cell_type": "code",
   "execution_count": 310,
   "metadata": {},
   "outputs": [],
   "source": [
    "# clean text\n",
    "punctuations = string.punctuation\n",
    "punctuations = punctuations + \"’‘“”—\"\n",
    "stopw = stopwords.words('english')\n",
    "stopw.extend(['new','york','time','2'])\n",
    "\n",
    "final_df['combined_text'] = final_df['headline'] + ' ' + final_df['snippet']\n",
    "final_df['combined_text'] = final_df['combined_text'].str.lower()"
   ]
  },
  {
   "cell_type": "code",
   "execution_count": 311,
   "metadata": {},
   "outputs": [],
   "source": [
    "def removeStopwords(texto):\n",
    "    \n",
    "    blob = TextBlob(texto).words\n",
    "    outputlist = [word for word in blob if word not in stopw\n",
    "                                        and word not in punctuations]\n",
    "    text_cleaned = ' '.join(word for word in outputlist)\n",
    "    text_cleaned = text_cleaned.replace('-',' ')\n",
    "    return text_cleaned\n",
    "\n",
    "\n",
    "def tokenize(text):\n",
    "    stem = nltk.stem.SnowballStemmer('english')\n",
    "    text = text.lower()\n",
    "\n",
    "    for token in nltk.word_tokenize(text):\n",
    "        if token in string.punctuation: continue\n",
    "        yield stem.stem(token)"
   ]
  },
  {
   "cell_type": "code",
   "execution_count": 312,
   "metadata": {},
   "outputs": [],
   "source": [
    "final_df['combined_text_cleaned'] = final_df['combined_text'].apply(removeStopwords)"
   ]
  },
  {
   "cell_type": "markdown",
   "metadata": {},
   "source": [
    "# Implement Bernoulli Naive Bayes"
   ]
  },
  {
   "cell_type": "code",
   "execution_count": 331,
   "metadata": {},
   "outputs": [],
   "source": [
    "model_df = final_df[['combined_text_cleaned','section_name']].copy()\n",
    "model_df = model_df.reset_index(drop=True)"
   ]
  },
  {
   "cell_type": "code",
   "execution_count": 348,
   "metadata": {},
   "outputs": [],
   "source": [
    "test_size = 0.20\n",
    "test = model_df.sample(n=int(test_size * len(model_df)))\n",
    "train = model_df[~model_df.index.isin(test.index)]"
   ]
  },
  {
   "cell_type": "code",
   "execution_count": 352,
   "metadata": {},
   "outputs": [
    {
     "data": {
      "text/plain": [
       "Obituaries    416\n",
       "World         401\n",
       "Sports        401\n",
       "Arts          395\n",
       "Business      387\n",
       "Name: section_name, dtype: int64"
      ]
     },
     "execution_count": 352,
     "metadata": {},
     "output_type": "execute_result"
    }
   ],
   "source": [
    "train['section_name'].value_counts()"
   ]
  },
  {
   "cell_type": "code",
   "execution_count": 353,
   "metadata": {},
   "outputs": [
    {
     "data": {
      "text/plain": [
       "Business      112\n",
       "Arts          105\n",
       "World         100\n",
       "Sports         99\n",
       "Obituaries     84\n",
       "Name: section_name, dtype: int64"
      ]
     },
     "execution_count": 353,
     "metadata": {},
     "output_type": "execute_result"
    }
   ],
   "source": [
    "test['section_name'].value_counts()"
   ]
  },
  {
   "cell_type": "markdown",
   "metadata": {},
   "source": [
    "## train"
   ]
  },
  {
   "cell_type": "code",
   "execution_count": 599,
   "metadata": {},
   "outputs": [],
   "source": [
    "class0 = 'Arts'\n",
    "alpha = 10\n",
    "beta = 5"
   ]
  },
  {
   "cell_type": "code",
   "execution_count": 600,
   "metadata": {},
   "outputs": [],
   "source": [
    "\"\"\"\n",
    "represent each doc as a binary vector where each column is a word\n",
    "and each entry is how many times a word appear in that doc\n",
    "\"\"\"\n",
    "# using nltk\n",
    "\n",
    "from collections import defaultdict\n",
    "\n",
    "def vectorize(doc):\n",
    "    features = defaultdict(int)\n",
    "    for token in tokenize(doc):\n",
    "        features[token] += 1\n",
    "    return features\n"
   ]
  },
  {
   "cell_type": "code",
   "execution_count": 601,
   "metadata": {},
   "outputs": [],
   "source": [
    "# calculate priors\n",
    "theta_jc_df = pd.DataFrame()\n",
    "theta_c_df = pd.DataFrame()\n",
    "for s in sections:\n",
    "\n",
    "    vectors = map(vectorize, train[train['section_name']==s]['combined_text_cleaned'])\n",
    "\n",
    "    # change to 0 or 1\n",
    "    class_df = pd.DataFrame(vectors).fillna(0)\n",
    "    class_df = class_df.where(class_df==0, 1)\n",
    "    # calculate theta jc\n",
    "    # number of doc containing word j in section c over total number of docs in section c with laplace\n",
    "    thetajc = ((class_df.sum() + alpha - 1)/(len(class_df) + alpha + beta -2))\n",
    "    thethac = pd.DataFrame(thetajc).T\n",
    "    thethac['section'] = s\n",
    "    # number of doc  in section c over total number of docs\n",
    "    thetac = len(class_df)/len(train)\n",
    "    \n",
    "    theta_jc_df = theta_jc_df.append(thethac)\n",
    "    theta_c_df = theta_c_df.append(pd.DataFrame([{'section':s,'thetac':thetac}]))\n",
    "\n",
    "\n",
    "theta_jc_df = theta_jc_df.fillna(0.001)\n",
    "theta_jc_df = theta_jc_df.set_index('section')\n",
    "\n",
    "theta_c_df =theta_c_df.set_index('section')"
   ]
  },
  {
   "cell_type": "code",
   "execution_count": 602,
   "metadata": {},
   "outputs": [],
   "source": [
    "# calculate weights\n",
    "\n",
    "numer = ((np.array(theta_jc_df) * np.array(1 - theta_jc_df[theta_jc_df.index==class0]))) \n",
    "denom = ( np.array(theta_jc_df[theta_jc_df.index==class0]) * (1 - np.array(theta_jc_df)))\n",
    "\n",
    "wjc = np.log(numer/denom)\n",
    "\n",
    "w0 = (np.log((1 - np.array(theta_jc_df))/(np.array(1 - theta_jc_df[theta_jc_df.index==class0])))).sum(1) + \\\n",
    "np.log(np.array(theta_c_df)/np.array(theta_c_df[theta_c_df.index==class0]['thetac'])).T[0]"
   ]
  },
  {
   "cell_type": "markdown",
   "metadata": {},
   "source": [
    "## predict"
   ]
  },
  {
   "cell_type": "code",
   "execution_count": 603,
   "metadata": {},
   "outputs": [],
   "source": [
    "test_vectors = pd.DataFrame()\n",
    "for s in sections:\n",
    "    vectors = map(vectorize, test[test['section_name']==s]['combined_text_cleaned'])\n",
    "    df = pd.DataFrame(vectors).fillna(0)\n",
    "    df = df.where(class_df==0, 1)\n",
    "    df['section_name'] = s\n",
    "    test_vectors = test_vectors.append(df)"
   ]
  },
  {
   "cell_type": "code",
   "execution_count": 604,
   "metadata": {},
   "outputs": [],
   "source": [
    "test_vectors = test_vectors.set_index('section_name')\n",
    "test_vectors = test_vectors.fillna(0)\n",
    "test_vectors = test_vectors.where(test_vectors==0, 1)\n",
    "\n",
    "missing_words = list(set(theta_jc_df.columns) - set(test_vectors.columns))\n",
    "for w in missing_words:\n",
    "    test_vectors[w] = 0\n",
    "test_vectors = test_vectors[list(theta_jc_df.columns)]"
   ]
  },
  {
   "cell_type": "code",
   "execution_count": 605,
   "metadata": {},
   "outputs": [],
   "source": [
    "# np.argmax(((wjc * test_word_vector).sum(axis=1)) + w0)"
   ]
  },
  {
   "cell_type": "code",
   "execution_count": 606,
   "metadata": {},
   "outputs": [],
   "source": [
    "prediction_df = pd.DataFrame((np.matmul(wjc, np.array(test_vectors.T)).T) + w0, columns = sections)\n",
    "prediction_df['pred'] = prediction_df.idxmax(axis=\"columns\")\n",
    "prediction_df['actual'] = list(test_vectors.index)"
   ]
  },
  {
   "cell_type": "code",
   "execution_count": 607,
   "metadata": {},
   "outputs": [
    {
     "data": {
      "text/plain": [
       "Business      212\n",
       "Arts          105\n",
       "Sports         99\n",
       "Obituaries     84\n",
       "Name: pred, dtype: int64"
      ]
     },
     "execution_count": 607,
     "metadata": {},
     "output_type": "execute_result"
    }
   ],
   "source": [
    "prediction_df['pred'].value_counts()"
   ]
  },
  {
   "cell_type": "code",
   "execution_count": 608,
   "metadata": {},
   "outputs": [
    {
     "data": {
      "text/plain": [
       "Business      112\n",
       "Arts          105\n",
       "World         100\n",
       "Sports         99\n",
       "Obituaries     84\n",
       "Name: actual, dtype: int64"
      ]
     },
     "execution_count": 608,
     "metadata": {},
     "output_type": "execute_result"
    }
   ],
   "source": [
    "prediction_df['actual'].value_counts()"
   ]
  },
  {
   "cell_type": "code",
   "execution_count": 609,
   "metadata": {},
   "outputs": [
    {
     "name": "stdout",
     "output_type": "stream",
     "text": [
      "accuracy rate: 0.8\n"
     ]
    }
   ],
   "source": [
    "print('accuracy rate:', accuracy_score(prediction_df['actual'], prediction_df['pred']))"
   ]
  },
  {
   "cell_type": "code",
   "execution_count": 610,
   "metadata": {},
   "outputs": [
    {
     "data": {
      "text/plain": [
       "Text(91.68, 0.5, 'predicted label')"
      ]
     },
     "execution_count": 610,
     "metadata": {},
     "output_type": "execute_result"
    },
    {
     "data": {
      "image/png": "[encoded data removed]",
      "text/plain": [
       "<Figure size 432x288 with 1 Axes>"
      ]
     },
     "metadata": {
      "needs_background": "light"
     },
     "output_type": "display_data"
    }
   ],
   "source": [
    "y_test =  prediction_df['actual']\n",
    "predictions =  prediction_df['pred']\n",
    "\n",
    "cm = confusion_matrix(y_test, predictions)\n",
    "sns.heatmap(cm, square=True, annot=True, cmap='RdBu', cbar=False,\n",
    "xticklabels=sections, yticklabels=sections)\n",
    "plt.xlabel('true label')\n",
    "plt.ylabel('predicted label')"
   ]
  },
  {
   "cell_type": "markdown",
   "metadata": {},
   "source": [
    " "
   ]
  },
  {
   "cell_type": "markdown",
   "metadata": {},
   "source": [
    "# Implement Naive Bayes Using Sklearn"
   ]
  },
  {
   "cell_type": "code",
   "execution_count": 536,
   "metadata": {},
   "outputs": [],
   "source": [
    "from sklearn.model_selection import train_test_split\n",
    "from sklearn.feature_extraction.text import CountVectorizer\n",
    "from sklearn.naive_bayes import MultinomialNB\n",
    "from sklearn.metrics import accuracy_score, precision_score, recall_score\n",
    "from sklearn.metrics import confusion_matrix\n",
    "import matplotlib.pyplot as plt\n",
    "import seaborn as sns"
   ]
  },
  {
   "cell_type": "code",
   "execution_count": 525,
   "metadata": {},
   "outputs": [],
   "source": [
    "model_df = final_df[['combined_text_cleaned','section_name']].copy()\n",
    "model_df = model_df.reset_index(drop=True)\n",
    "\n",
    "X_train, X_test, y_train, y_test = train_test_split(model_df['combined_text_cleaned'],\n",
    "                                                    model_df['section_name'], random_state=1)"
   ]
  },
  {
   "cell_type": "code",
   "execution_count": 527,
   "metadata": {},
   "outputs": [],
   "source": [
    "cv = CountVectorizer(strip_accents='ascii', token_pattern=u'(?ui)\\\\b\\\\w*[a-z]+\\\\w*\\\\b', lowercase=True, stop_words='english')\n",
    "X_train_cv = cv.fit_transform(X_train)\n",
    "X_test_cv = cv.transform(X_test)"
   ]
  },
  {
   "cell_type": "code",
   "execution_count": 562,
   "metadata": {},
   "outputs": [],
   "source": [
    "word_freq_df = pd.DataFrame(X_train_cv.toarray(), columns=cv.get_feature_names())\n",
    "word_freq_df['class'] = y_train "
   ]
  },
  {
   "cell_type": "code",
   "execution_count": 641,
   "metadata": {},
   "outputs": [
    {
     "name": "stdout",
     "output_type": "stream",
     "text": [
      "Arts\n",
      "deaths         76\n",
      "notable        74\n",
      "coronavirus    52\n",
      "said           47\n",
      "times          44\n",
      "world          43\n",
      "week           39\n",
      "art            38\n",
      "year           38\n",
      "president      36\n",
      "dtype: int64\n",
      "\n",
      "Business\n",
      "deaths      68\n",
      "notable     65\n",
      "n           47\n",
      "week        43\n",
      "times       42\n",
      "year        41\n",
      "pandemic    38\n",
      "world       36\n",
      "people      35\n",
      "season      35\n",
      "dtype: int64\n",
      "\n",
      "Obituaries\n",
      "deaths         75\n",
      "notable        66\n",
      "times          55\n",
      "n              54\n",
      "world          49\n",
      "week           38\n",
      "s              35\n",
      "coronavirus    35\n",
      "l              34\n",
      "pandemic       34\n",
      "dtype: int64\n",
      "\n",
      "Sports\n",
      "deaths         64\n",
      "notable        60\n",
      "week           35\n",
      "s              35\n",
      "season         29\n",
      "coronavirus    28\n",
      "president      27\n",
      "year           27\n",
      "pandemic       26\n",
      "day            25\n",
      "dtype: int64\n",
      "\n",
      "World\n",
      "amazon           3\n",
      "high             2\n",
      "assails          2\n",
      "virus            2\n",
      "brazil           2\n",
      "toll             2\n",
      "exceptionally    2\n",
      "taking           2\n",
      "pandemic         2\n",
      "region           2\n",
      "dtype: int64\n",
      "\n"
     ]
    }
   ],
   "source": [
    "# word count per section\n",
    "for s in sections:\n",
    "    df = word_freq_df[word_freq_df['class']==s].copy()\n",
    "    df.drop('class',inplace=True,axis=1)\n",
    "    df = df.sum().sort_values(0, ascending=False)\n",
    "    print(s)\n",
    "    print(df.head(10))\n",
    "    print()"
   ]
  },
  {
   "cell_type": "code",
   "execution_count": 535,
   "metadata": {},
   "outputs": [],
   "source": [
    "naive_bayes = MultinomialNB()\n",
    "naive_bayes.fit(X_train_cv, y_train)\n",
    "predictions = naive_bayes.predict(X_test_cv)"
   ]
  },
  {
   "cell_type": "code",
   "execution_count": 538,
   "metadata": {},
   "outputs": [
    {
     "name": "stdout",
     "output_type": "stream",
     "text": [
      "Accuracy score:  0.9056\n"
     ]
    }
   ],
   "source": [
    "print('Accuracy score: ', accuracy_score(y_test, predictions))"
   ]
  },
  {
   "cell_type": "code",
   "execution_count": 540,
   "metadata": {},
   "outputs": [
    {
     "data": {
      "text/plain": [
       "Text(91.68, 0.5, 'predicted label')"
      ]
     },
     "execution_count": 540,
     "metadata": {},
     "output_type": "execute_result"
    },
    {
     "data": {
      "image/png": "[encoded data removed]",
      "text/plain": [
       "<Figure size 432x288 with 1 Axes>"
      ]
     },
     "metadata": {
      "needs_background": "light"
     },
     "output_type": "display_data"
    }
   ],
   "source": [
    "cm = confusion_matrix(y_test, predictions)\n",
    "sns.heatmap(cm, square=True, annot=True, cmap='RdBu', cbar=False,\n",
    "xticklabels=sections, yticklabels=sections)\n",
    "plt.xlabel('true label')\n",
    "plt.ylabel('predicted label')"
   ]
  }
 ],
 "metadata": {
  "kernelspec": {
   "display_name": "Python 3",
   "language": "python",
   "name": "python3"
  },
  "language_info": {
   "codemirror_mode": {
    "name": "ipython",
    "version": 3
   },
   "file_extension": ".py",
   "mimetype": "text/x-python",
   "name": "python",
   "nbconvert_exporter": "python",
   "pygments_lexer": "ipython3",
   "version": "3.8.3"
  }
 },
 "nbformat": 4,
 "nbformat_minor": 4
}
